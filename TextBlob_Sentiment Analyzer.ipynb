{
 "cells": [
  {
   "cell_type": "markdown",
   "id": "a5fd3b80",
   "metadata": {},
   "source": [
    "# Sentiment Analyzer 😠😐😊"
   ]
  },
  {
   "cell_type": "code",
   "execution_count": 1,
   "id": "133c34f1",
   "metadata": {
    "scrolled": true
   },
   "outputs": [
    {
     "name": "stdout",
     "output_type": "stream",
     "text": [
      "Requirement already satisfied: setuptools==60.9.3 in c:\\users\\mustafa abdulrazek\\anaconda3\\envs\\nlphero\\lib\\site-packages (from -r requirements.txt (line 1)) (60.9.3)\n",
      "Requirement already satisfied: numpy==1.21.5 in c:\\users\\mustafa abdulrazek\\anaconda3\\envs\\nlphero\\lib\\site-packages (from -r requirements.txt (line 2)) (1.21.5)\n",
      "Requirement already satisfied: spacy==3.2.2 in c:\\users\\mustafa abdulrazek\\anaconda3\\envs\\nlphero\\lib\\site-packages (from -r requirements.txt (line 3)) (3.2.2)\n",
      "Requirement already satisfied: spacytextblob==3.0.1 in c:\\users\\mustafa abdulrazek\\anaconda3\\envs\\nlphero\\lib\\site-packages (from -r requirements.txt (line 4)) (3.0.1)\n",
      "Requirement already satisfied: tqdm<5.0.0,>=4.38.0 in c:\\users\\mustafa abdulrazek\\anaconda3\\envs\\nlphero\\lib\\site-packages (from spacy==3.2.2->-r requirements.txt (line 3)) (4.62.3)\n",
      "Requirement already satisfied: preshed<3.1.0,>=3.0.2 in c:\\users\\mustafa abdulrazek\\anaconda3\\envs\\nlphero\\lib\\site-packages (from spacy==3.2.2->-r requirements.txt (line 3)) (3.0.6)\n",
      "Requirement already satisfied: thinc<8.1.0,>=8.0.12 in c:\\users\\mustafa abdulrazek\\anaconda3\\envs\\nlphero\\lib\\site-packages (from spacy==3.2.2->-r requirements.txt (line 3)) (8.0.13)\n",
      "Requirement already satisfied: typer<0.5.0,>=0.3.0 in c:\\users\\mustafa abdulrazek\\anaconda3\\envs\\nlphero\\lib\\site-packages (from spacy==3.2.2->-r requirements.txt (line 3)) (0.4.0)\n",
      "Requirement already satisfied: catalogue<2.1.0,>=2.0.6 in c:\\users\\mustafa abdulrazek\\anaconda3\\envs\\nlphero\\lib\\site-packages (from spacy==3.2.2->-r requirements.txt (line 3)) (2.0.6)\n",
      "Requirement already satisfied: blis<0.8.0,>=0.4.0 in c:\\users\\mustafa abdulrazek\\anaconda3\\envs\\nlphero\\lib\\site-packages (from spacy==3.2.2->-r requirements.txt (line 3)) (0.7.5)\n",
      "Requirement already satisfied: requests<3.0.0,>=2.13.0 in c:\\users\\mustafa abdulrazek\\anaconda3\\envs\\nlphero\\lib\\site-packages (from spacy==3.2.2->-r requirements.txt (line 3)) (2.26.0)\n",
      "Requirement already satisfied: wasabi<1.1.0,>=0.8.1 in c:\\users\\mustafa abdulrazek\\anaconda3\\envs\\nlphero\\lib\\site-packages (from spacy==3.2.2->-r requirements.txt (line 3)) (0.9.0)\n",
      "Requirement already satisfied: jinja2 in c:\\users\\mustafa abdulrazek\\anaconda3\\envs\\nlphero\\lib\\site-packages (from spacy==3.2.2->-r requirements.txt (line 3)) (3.0.1)\n",
      "Requirement already satisfied: srsly<3.0.0,>=2.4.1 in c:\\users\\mustafa abdulrazek\\anaconda3\\envs\\nlphero\\lib\\site-packages (from spacy==3.2.2->-r requirements.txt (line 3)) (2.4.2)\n",
      "Requirement already satisfied: pathy>=0.3.5 in c:\\users\\mustafa abdulrazek\\anaconda3\\envs\\nlphero\\lib\\site-packages (from spacy==3.2.2->-r requirements.txt (line 3)) (0.6.1)\n",
      "Requirement already satisfied: murmurhash<1.1.0,>=0.28.0 in c:\\users\\mustafa abdulrazek\\anaconda3\\envs\\nlphero\\lib\\site-packages (from spacy==3.2.2->-r requirements.txt (line 3)) (1.0.6)\n",
      "Requirement already satisfied: spacy-legacy<3.1.0,>=3.0.8 in c:\\users\\mustafa abdulrazek\\anaconda3\\envs\\nlphero\\lib\\site-packages (from spacy==3.2.2->-r requirements.txt (line 3)) (3.0.8)\n",
      "Requirement already satisfied: spacy-loggers<2.0.0,>=1.0.0 in c:\\users\\mustafa abdulrazek\\anaconda3\\envs\\nlphero\\lib\\site-packages (from spacy==3.2.2->-r requirements.txt (line 3)) (1.0.1)\n",
      "Requirement already satisfied: typing-extensions<4.0.0.0,>=3.7.4 in c:\\users\\mustafa abdulrazek\\anaconda3\\envs\\nlphero\\lib\\site-packages (from spacy==3.2.2->-r requirements.txt (line 3)) (3.10.0.2)\n",
      "Requirement already satisfied: cymem<2.1.0,>=2.0.2 in c:\\users\\mustafa abdulrazek\\anaconda3\\envs\\nlphero\\lib\\site-packages (from spacy==3.2.2->-r requirements.txt (line 3)) (2.0.6)\n",
      "Requirement already satisfied: pydantic!=1.8,!=1.8.1,<1.9.0,>=1.7.4 in c:\\users\\mustafa abdulrazek\\anaconda3\\envs\\nlphero\\lib\\site-packages (from spacy==3.2.2->-r requirements.txt (line 3)) (1.8.2)\n",
      "Requirement already satisfied: packaging>=20.0 in c:\\users\\mustafa abdulrazek\\anaconda3\\envs\\nlphero\\lib\\site-packages (from spacy==3.2.2->-r requirements.txt (line 3)) (21.0)\n",
      "Requirement already satisfied: langcodes<4.0.0,>=3.2.0 in c:\\users\\mustafa abdulrazek\\anaconda3\\envs\\nlphero\\lib\\site-packages (from spacy==3.2.2->-r requirements.txt (line 3)) (3.3.0)\n",
      "Requirement already satisfied: textblob<0.16.0,>=0.15.3 in c:\\users\\mustafa abdulrazek\\anaconda3\\envs\\nlphero\\lib\\site-packages (from spacytextblob==3.0.1->-r requirements.txt (line 4)) (0.15.3)\n",
      "Requirement already satisfied: zipp>=0.5 in c:\\users\\mustafa abdulrazek\\anaconda3\\envs\\nlphero\\lib\\site-packages (from catalogue<2.1.0,>=2.0.6->spacy==3.2.2->-r requirements.txt (line 3)) (3.5.0)\n",
      "Requirement already satisfied: pyparsing>=2.0.2 in c:\\users\\mustafa abdulrazek\\anaconda3\\envs\\nlphero\\lib\\site-packages (from packaging>=20.0->spacy==3.2.2->-r requirements.txt (line 3)) (2.4.7)\n",
      "Requirement already satisfied: smart-open<6.0.0,>=5.0.0 in c:\\users\\mustafa abdulrazek\\anaconda3\\envs\\nlphero\\lib\\site-packages (from pathy>=0.3.5->spacy==3.2.2->-r requirements.txt (line 3)) (5.2.1)\n",
      "Requirement already satisfied: certifi>=2017.4.17 in c:\\users\\mustafa abdulrazek\\anaconda3\\envs\\nlphero\\lib\\site-packages (from requests<3.0.0,>=2.13.0->spacy==3.2.2->-r requirements.txt (line 3)) (2021.10.8)\n",
      "Requirement already satisfied: idna<4,>=2.5 in c:\\users\\mustafa abdulrazek\\anaconda3\\envs\\nlphero\\lib\\site-packages (from requests<3.0.0,>=2.13.0->spacy==3.2.2->-r requirements.txt (line 3)) (3.2)\n",
      "Requirement already satisfied: urllib3<1.27,>=1.21.1 in c:\\users\\mustafa abdulrazek\\anaconda3\\envs\\nlphero\\lib\\site-packages (from requests<3.0.0,>=2.13.0->spacy==3.2.2->-r requirements.txt (line 3)) (1.26.6)\n",
      "Requirement already satisfied: charset-normalizer~=2.0.0 in c:\\users\\mustafa abdulrazek\\anaconda3\\envs\\nlphero\\lib\\site-packages (from requests<3.0.0,>=2.13.0->spacy==3.2.2->-r requirements.txt (line 3)) (2.0.4)\n",
      "Requirement already satisfied: nltk>=3.1 in c:\\users\\mustafa abdulrazek\\anaconda3\\envs\\nlphero\\lib\\site-packages (from textblob<0.16.0,>=0.15.3->spacytextblob==3.0.1->-r requirements.txt (line 4)) (3.7)\n",
      "Requirement already satisfied: regex>=2021.8.3 in c:\\users\\mustafa abdulrazek\\anaconda3\\envs\\nlphero\\lib\\site-packages (from nltk>=3.1->textblob<0.16.0,>=0.15.3->spacytextblob==3.0.1->-r requirements.txt (line 4)) (2022.1.18)\n",
      "Requirement already satisfied: click in c:\\users\\mustafa abdulrazek\\anaconda3\\envs\\nlphero\\lib\\site-packages (from nltk>=3.1->textblob<0.16.0,>=0.15.3->spacytextblob==3.0.1->-r requirements.txt (line 4)) (8.0.4)\n",
      "Requirement already satisfied: joblib in c:\\users\\mustafa abdulrazek\\anaconda3\\envs\\nlphero\\lib\\site-packages (from nltk>=3.1->textblob<0.16.0,>=0.15.3->spacytextblob==3.0.1->-r requirements.txt (line 4)) (1.1.0)\n",
      "Requirement already satisfied: colorama in c:\\users\\mustafa abdulrazek\\anaconda3\\envs\\nlphero\\lib\\site-packages (from tqdm<5.0.0,>=4.38.0->spacy==3.2.2->-r requirements.txt (line 3)) (0.4.4)\n",
      "Requirement already satisfied: importlib-metadata in c:\\users\\mustafa abdulrazek\\anaconda3\\envs\\nlphero\\lib\\site-packages (from click->nltk>=3.1->textblob<0.16.0,>=0.15.3->spacytextblob==3.0.1->-r requirements.txt (line 4)) (3.10.0)\n",
      "Requirement already satisfied: MarkupSafe>=2.0 in c:\\users\\mustafa abdulrazek\\anaconda3\\envs\\nlphero\\lib\\site-packages (from jinja2->spacy==3.2.2->-r requirements.txt (line 3)) (2.0.1)\n"
     ]
    }
   ],
   "source": [
    "!pip install -r requirements.txt"
   ]
  },
  {
   "cell_type": "code",
   "execution_count": 2,
   "id": "906f06d0",
   "metadata": {},
   "outputs": [],
   "source": [
    "import spacy\n",
    "from IPython.display import Markdown as md\n",
    "from spacytextblob.spacytextblob import SpacyTextBlob"
   ]
  },
  {
   "cell_type": "code",
   "execution_count": 3,
   "id": "f4a1f2ce",
   "metadata": {},
   "outputs": [],
   "source": [
    "# user_input = 'really very good repo with amazing insigts'\n",
    "# user_input = \"bad article with bad people, they don't care about thier clients\"\n",
    "user_input = \"it is a good experience to work with Dr. Ahmed Talaat, Osama Abou Elkhir, \\\n",
    "MO and Dr. Amr Fawzy. I liked them alot and condider them as my family really.\""
   ]
  },
  {
   "cell_type": "raw",
   "id": "761cde58",
   "metadata": {},
   "source": [
    "!spacy download en_core_web_sm"
   ]
  },
  {
   "cell_type": "code",
   "execution_count": 4,
   "id": "2b080fec",
   "metadata": {},
   "outputs": [],
   "source": [
    "nlp = spacy.load('en_core_web_sm')\n",
    "_= nlp.add_pipe('spacytextblob')"
   ]
  },
  {
   "cell_type": "code",
   "execution_count": 5,
   "id": "81af026a",
   "metadata": {},
   "outputs": [],
   "source": [
    "# process user input\n",
    "doc = nlp(user_input)"
   ]
  },
  {
   "cell_type": "code",
   "execution_count": 6,
   "id": "b6a5a0a5",
   "metadata": {},
   "outputs": [],
   "source": [
    "emojis = [\"😠\", \"😐\", \"😊\"]\n",
    "headers = [\"Negative\", \"Neurtral\", \"Positive\"]\n",
    "alerts = [\"danger\", \"warning\", \"success\"]\n",
    "index = 1\n",
    "if doc._.polarity >= 0.5:\n",
    "    index = 2\n",
    "elif doc._.polarity <= -0.5:\n",
    "    index = 0"
   ]
  },
  {
   "cell_type": "code",
   "execution_count": 7,
   "id": "290ad2be",
   "metadata": {},
   "outputs": [
    {
     "data": {
      "text/markdown": [
       "\n",
       "<div class=\"alert alert_block alert-warning\">\n",
       "    <h2>😐 Neurtral sentiment</h2>\n",
       "    <h3>it is a good experience to work with Dr. Ahmed Talaat, Osama Abou Elkhir, MO and Dr. Amr Fawzy. I liked them alot and condider them as my family really.</h3>\n",
       "    <h4>Polarity: 0.49999999999999994</h4>\n",
       "</div>\n"
      ],
      "text/plain": [
       "<IPython.core.display.Markdown object>"
      ]
     },
     "execution_count": 7,
     "metadata": {},
     "output_type": "execute_result"
    }
   ],
   "source": [
    "md(f'''\n",
    "<div class=\"alert alert_block alert-{alerts[index]}\">\n",
    "    <h2>{emojis[index]} {headers[index]} sentiment</h2>\n",
    "    <h3>{user_input}</h3>\n",
    "    <h4>Polarity: {doc._.polarity}</h4>\n",
    "</div>\n",
    "''')"
   ]
  },
  {
   "cell_type": "code",
   "execution_count": null,
   "id": "59100cf9",
   "metadata": {},
   "outputs": [],
   "source": []
  }
 ],
 "metadata": {
  "kernelspec": {
   "display_name": "(NLPHero)",
   "language": "python",
   "name": "nlphero"
  },
  "language_info": {
   "codemirror_mode": {
    "name": "ipython",
    "version": 3
   },
   "file_extension": ".py",
   "mimetype": "text/x-python",
   "name": "python",
   "nbconvert_exporter": "python",
   "pygments_lexer": "ipython3",
   "version": "3.7.9"
  }
 },
 "nbformat": 4,
 "nbformat_minor": 5
}
