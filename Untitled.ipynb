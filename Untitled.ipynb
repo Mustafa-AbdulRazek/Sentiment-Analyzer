{
 "cells": [
  {
   "cell_type": "markdown",
   "id": "e8c68d0d",
   "metadata": {},
   "source": [
    "# Sentiment Analyzer 😠😐😊"
   ]
  },
  {
   "cell_type": "code",
   "execution_count": null,
   "id": "ff3474c6",
   "metadata": {},
   "outputs": [],
   "source": [
    "!pip install -r requirements.txt"
   ]
  },
  {
   "cell_type": "code",
   "execution_count": 1,
   "id": "eb628f48",
   "metadata": {},
   "outputs": [],
   "source": [
    "import spacy\n",
    "from IPython.display import Markdown as md\n",
    "from spacytextblob.spacytextblob import SpacyTextBlob"
   ]
  },
  {
   "cell_type": "code",
   "execution_count": 2,
   "id": "3ff94cb4",
   "metadata": {},
   "outputs": [],
   "source": [
    "# user_input = 'really very good repo with amazing insigts'\n",
    "# user_input = \"bad article with bad people, they don't care about thier clients\"\n",
    "user_input = \"it is a good experience to work with Dr. Ahmed Talaat, Osama Abou Elkhir, \\\n",
    "MO and Dr. Amr Fawzy. I liked them alot and condider them as my family really.\""
   ]
  },
  {
   "cell_type": "raw",
   "id": "61f512a2",
   "metadata": {},
   "source": [
    "!spacy download en_core_web_sm"
   ]
  },
  {
   "cell_type": "code",
   "execution_count": 3,
   "id": "1c734be8",
   "metadata": {},
   "outputs": [],
   "source": [
    "nlp = spacy.load('en_core_web_sm')\n",
    "_= nlp.add_pipe('spacytextblob')"
   ]
  },
  {
   "cell_type": "code",
   "execution_count": 4,
   "id": "f482bef7",
   "metadata": {},
   "outputs": [],
   "source": [
    "# process user input\n",
    "doc = nlp(user_input)"
   ]
  },
  {
   "cell_type": "code",
   "execution_count": 5,
   "id": "cd4a54af",
   "metadata": {},
   "outputs": [],
   "source": [
    "emojis = [\"😠\", \"😐\", \"😊\"]\n",
    "headers = [\"Negative\", \"Neurtral\", \"Positive\"]\n",
    "alerts = [\"danger\", \"warning\", \"success\"]\n",
    "index = 1\n",
    "if doc._.polarity >= 0.5:\n",
    "    index = 2\n",
    "elif doc._.polarity <= -0.5:\n",
    "    index = 0"
   ]
  },
  {
   "cell_type": "code",
   "execution_count": 6,
   "id": "68f43071",
   "metadata": {},
   "outputs": [
    {
     "data": {
      "text/markdown": [
       "\n",
       "<div class=\"alert alert_block alert-warning\">\n",
       "    <h2>😐 Neurtral sentiment</h2>\n",
       "    <h3>it is a good experience to work with Dr. Ahmed Talaat, Osama Abou Elkhir, MO and Dr. Amr Fawzy. I liked them alot and condider them as my family really.</h3>\n",
       "    <h4>Polarity: 0.49999999999999994</h4>\n",
       "</div>\n"
      ],
      "text/plain": [
       "<IPython.core.display.Markdown object>"
      ]
     },
     "execution_count": 6,
     "metadata": {},
     "output_type": "execute_result"
    }
   ],
   "source": [
    "md(f'''\n",
    "<div class=\"alert alert_block alert-{alerts[index]}\">\n",
    "    <h2>{emojis[index]} {headers[index]} sentiment</h2>\n",
    "    <h3>{user_input}</h3>\n",
    "    <h4>Polarity: {doc._.polarity}</h4>\n",
    "</div>\n",
    "''')"
   ]
  },
  {
   "cell_type": "code",
   "execution_count": null,
   "id": "d7cc45b5",
   "metadata": {},
   "outputs": [],
   "source": []
  }
 ],
 "metadata": {
  "kernelspec": {
   "display_name": "(NLPHero)",
   "language": "python",
   "name": "nlphero"
  },
  "language_info": {
   "codemirror_mode": {
    "name": "ipython",
    "version": 3
   },
   "file_extension": ".py",
   "mimetype": "text/x-python",
   "name": "python",
   "nbconvert_exporter": "python",
   "pygments_lexer": "ipython3",
   "version": "3.7.9"
  }
 },
 "nbformat": 4,
 "nbformat_minor": 5
}
